{
 "cells": [
  {
   "cell_type": "markdown",
   "metadata": {
    "id": "n5l6uEwTa2fq"
   },
   "source": [
    "# 準備"
   ]
  },
  {
   "cell_type": "code",
   "execution_count": 8,
   "metadata": {
    "executionInfo": {
     "elapsed": 25835,
     "status": "ok",
     "timestamp": 1634948422172,
     "user": {
      "displayName": "荒木隼人",
      "photoUrl": "https://lh3.googleusercontent.com/a/default-user=s64",
      "userId": "08318101037282125302"
     },
     "user_tz": -540
    },
    "id": "Rxp_G8Unar1L"
   },
   "outputs": [
    {
     "name": "stdout",
     "output_type": "stream",
     "text": [
      "Using device: cuda\n"
     ]
    }
   ],
   "source": [
    "from glob import glob\n",
    "import xml.etree.ElementTree as ET\n",
    "from PIL import Image\n",
    "import torch\n",
    "from torchvision import transforms\n",
    "import argparse\n",
    "import cv2\n",
    "import torchvision\n",
    "from torchvision.models.detection.faster_rcnn import FastRCNNPredictor\n",
    "from torch.utils.data import TensorDataset\n",
    "import datetime\n",
    "\n",
    "\n",
    "def FasterRCNN(num_classes):\n",
    "    model = torchvision.models.detection.fasterrcnn_resnet50_fpn(pretrained=True)\n",
    "    in_features = model.roi_heads.box_predictor.cls_score.in_features\n",
    "    model.roi_heads.box_predictor = FastRCNNPredictor(in_features, num_classes)\n",
    "    return model\n",
    "\n",
    "\n",
    "device = torch.device('cuda') if torch.cuda.is_available() else torch.device('cpu')\n",
    "print('Using device:', device)\n",
    "model = FasterRCNN(num_classes=2).to(device)\n",
    "dataset_class = ['defect']\n",
    "colors = ((0, 0, 0), (255, 0, 0))"
   ]
  },
  {
   "cell_type": "markdown",
   "metadata": {
    "id": "DGOaHVCwh17l"
   },
   "source": [
    "# 学習させる"
   ]
  },
  {
   "cell_type": "markdown",
   "metadata": {
    "id": "PeJ0NyR8jaTH"
   },
   "source": [
    "学習に使いたいデータを入力してください． <br>\n",
    "Model が未入力の場合は FasteRCNNPredictor を使います．"
   ]
  },
  {
   "cell_type": "code",
   "execution_count": 34,
   "metadata": {
    "executionInfo": {
     "elapsed": 489,
     "status": "ok",
     "timestamp": 1634948424933,
     "user": {
      "displayName": "荒木隼人",
      "photoUrl": "https://lh3.googleusercontent.com/a/default-user=s64",
      "userId": "08318101037282125302"
     },
     "user_tz": -540
    },
    "id": "tGQkumW2h5wT"
   },
   "outputs": [],
   "source": [
    "path_model = \"\"\n",
    "path_dataset = \"dataset/20211022\""
   ]
  },
  {
   "cell_type": "markdown",
   "metadata": {
    "id": "q7FivXOfj2P6"
   },
   "source": [
    "出力先の設定"
   ]
  },
  {
   "cell_type": "code",
   "execution_count": 35,
   "metadata": {
    "executionInfo": {
     "elapsed": 260,
     "status": "ok",
     "timestamp": 1634948426350,
     "user": {
      "displayName": "荒木隼人",
      "photoUrl": "https://lh3.googleusercontent.com/a/default-user=s64",
      "userId": "08318101037282125302"
     },
     "user_tz": -540
    },
    "id": "yHCMSEnwjZok"
   },
   "outputs": [],
   "source": [
    "path_model_o = \"model\""
   ]
  },
  {
   "cell_type": "markdown",
   "metadata": {
    "id": "bgqHQ7WskYbH"
   },
   "source": [
    "以下学習"
   ]
  },
  {
   "cell_type": "code",
   "execution_count": 41,
   "metadata": {
    "colab": {
     "base_uri": "https://localhost:8080/",
     "height": 861,
     "referenced_widgets": [
      "9a6b19f098a846c1a8c3828721bd58ab",
      "20d83147a6fe4440941b592bc6b1b7be",
      "e2902305d5384d5f9ad48a7004aed8c6",
      "ba4699d86998469e85f0d03223b56e49",
      "8e5348f09ae041588ebf699f1408cf2d",
      "ddff8604230940a6b47471b4fd53db9f",
      "bc9eaa18522d45eeaf651c6dc24f5eb0",
      "0a9fdff3b9734631b72a75464d9893a5",
      "31758f0bda694bcaa568403937b4a98a",
      "f457f7780d9a401bafbeae8a14c88839",
      "b4f5996e0a794830b4a9365147341411"
     ]
    },
    "executionInfo": {
     "elapsed": 77034,
     "status": "ok",
     "timestamp": 1634948505517,
     "user": {
      "displayName": "荒木隼人",
      "photoUrl": "https://lh3.googleusercontent.com/a/default-user=s64",
      "userId": "08318101037282125302"
     },
     "user_tz": -540
    },
    "id": "z2hNb7s_kXnp",
    "outputId": "52e0ab62-3844-4dc1-824b-8da09b7f144d"
   },
   "outputs": [],
   "source": [
    "xml_dir = path_dataset + \"/label\"\n",
    "img_dir = path_dataset + \"/img\"\n",
    "dt_now = datetime.datetime.now()\n",
    "model_name = path_model_o + \"/\" + dt_now.strftime('%Y%m%d%H%M%S') + \".pth\"\n",
    "\n",
    "set_num_epochs = 20\n",
    "set_batch_size = 1\n",
    "set_lr = 0.005\n",
    "\n",
    "\n",
    "def xml2list(xml_path, classes):\n",
    "    xml = ET.parse(xml_path).getroot()\n",
    "    boxes, labels = [], []\n",
    "\n",
    "    for obj in xml.iter('object'):\n",
    "        label = obj.find('name').text\n",
    "\n",
    "    if label in classes:\n",
    "        bndbox = obj.find('bndbox')\n",
    "        xmin = int(bndbox.find('xmin').text.split(\".\")[0])\n",
    "        ymin = int(bndbox.find('ymin').text.split(\".\")[0])\n",
    "        xmax = int(bndbox.find('xmax').text.split(\".\")[0])\n",
    "        ymax = int(bndbox.find('ymax').text.split(\".\")[0])\n",
    "        boxes.append([xmin, ymin, xmax, ymax])\n",
    "        labels.append(classes.index(label))\n",
    "\n",
    "    anno = {'bboxes': boxes, 'labels': labels}\n",
    "    return anno, len(boxes)\n",
    "\n",
    "\n",
    "class MyDataset(torch.utils.data.Dataset):\n",
    "    def __init__(self, image_dir, xml_paths, classes):\n",
    "        super().__init__()\n",
    "        self.image_dir = image_dir\n",
    "        self.xml_paths = xml_paths\n",
    "        self.image_ids = sorted(glob('{}/*'.format(xml_paths)))\n",
    "        self.classes = classes\n",
    "        self.transform = transforms.Compose([\n",
    "                                          transforms.ToTensor()\n",
    "        ])\n",
    "\n",
    "    def __getitem__(self, index):\n",
    "        #image_id = self.image_ids[index].split(\"/\")[-1].split(\".\")[0]\n",
    "        image_id = self.image_ids[index].split(\"\\\\\")[-1].split(\".\")[0]\n",
    "        image = Image.open(f\"{self.image_dir}/{image_id}.jpg\")\n",
    "        image = self.transform(image)\n",
    "        image = image[:3, :, :]\n",
    "\n",
    "        path_xml = f'{self.xml_paths}/{image_id}.xml'\n",
    "        annotations, obje_num = xml2list(path_xml, self.classes)\n",
    "\n",
    "        boxes = torch.as_tensor(annotations['bboxes'], dtype=torch.int64)\n",
    "        labels = torch.as_tensor(annotations['labels'], dtype=torch.int64)\n",
    "        area = (boxes[:, 3] - boxes[:, 1]) * (boxes[:, 2] - boxes[:, 0])\n",
    "        area = torch.as_tensor(area, dtype=torch.float32)\n",
    "        iscrowd = torch.zeros((obje_num,), dtype=torch.int64)\n",
    "\n",
    "        target = dict()\n",
    "        target[\"boxes\"] = boxes\n",
    "        target[\"labels\"] = labels + 1\n",
    "        target[\"image_id\"] = torch.tensor([index])\n",
    "        target[\"area\"] = area\n",
    "        target[\"iscrowd\"] = iscrowd\n",
    "        return image, target, image_id\n",
    "\n",
    "    def __len__(self):\n",
    "        return len(self.image_ids)\n",
    "\n",
    "\n",
    "def collate_fn(batch):\n",
    "    return tuple(zip(*batch))\n",
    "\n",
    "\n",
    "if(path_model == \"\"):\n",
    "    model = FasterRCNN(num_classes=2).to(device)\n",
    "else:\n",
    "    model.load_state_dict(torch.load(path_model))\n",
    "\n",
    "\n",
    "dataset = MyDataset(img_dir, xml_dir, dataset_class)\n",
    "train_dataloader = torch.utils.data.DataLoader(dataset,\n",
    "                                              batch_size=set_batch_size,\n",
    "                                              shuffle=True,\n",
    "                                              collate_fn=collate_fn)\n",
    "\n",
    "\n",
    "params = [p for p in model.parameters() if p.requires_grad]\n",
    "optimizer = torch.optim.SGD(params, lr=set_lr, momentum=0.9, weight_decay=0.0005)\n",
    "\n",
    "f = open('logfile.txt', 'a')\n",
    "f.write(\"==================================================\\n\")\n",
    "f.write(f\"Started {dt_now}\\n\")\n",
    "f.write(f\"\\tpath_model = \\\"{path_model}\\\"\\n\")\n",
    "f.write(f\"\\tpath_dataset = \\\"{path_dataset}\\\"\\n\")\n",
    "f.write(f\"\\toutput model = \\\"{model_name}\\\"\\n\")\n",
    "f.write(f\"\\tset_num_epochs = \\\"{set_num_epochs}\\\"\\n\")\n",
    "f.write(f\"\\tset_batch_size = \\\"{set_batch_size}\\\"\\n\")\n",
    "f.write(f\"\\n\")\n",
    "\n",
    "for epoch in range(set_num_epochs):\n",
    "    model.train()\n",
    "    train_loss = 0\n",
    "\n",
    "    for i, batch in enumerate(train_dataloader):\n",
    "        images, targets, image_ids = batch\n",
    "        images = list(image.to(device) for image in images)\n",
    "        targets = [{k: v.to(device) for k, v in t.items()} for t in targets]\n",
    "\n",
    "        loss_dict = model(images, targets)\n",
    "        losses = sum(loss for loss in loss_dict.values())\n",
    "        train_loss += losses.item() * len(images)\n",
    "\n",
    "        optimizer.zero_grad()\n",
    "        losses.backward()\n",
    "        optimizer.step()\n",
    "        #f.write(f\"{i}\\t{train_loss}\\n\")\n",
    "        if i >= 100:\n",
    "            break\n",
    "\n",
    "    \n",
    "    f.write(f\"epoch {epoch+1}\\tloss: {train_loss / len(train_dataloader.dataset)}\\n\")\n",
    "    torch.save(model.state_dict(), model_name)\n",
    "\n",
    "\n",
    "f.write(\"\\n\")\n",
    "f.close()"
   ]
  },
  {
   "cell_type": "markdown",
   "metadata": {
    "id": "aHtTntyb6wWI"
   },
   "source": [
    "# 判定する"
   ]
  },
  {
   "cell_type": "markdown",
   "metadata": {
    "id": "U2hLQthO7Flg"
   },
   "source": [
    "判定に使うモデルと判定したい画像ディレクトリを入力してください．"
   ]
  },
  {
   "cell_type": "code",
   "execution_count": 2,
   "metadata": {
    "id": "BtcJkkokl_aF"
   },
   "outputs": [],
   "source": [
    "path_model_i = \"model/20211025162458.pth\"\n",
    "path_test = \"input\""
   ]
  },
  {
   "cell_type": "markdown",
   "metadata": {
    "id": "TRvHCCY_7wuQ"
   },
   "source": [
    "出力先の設定"
   ]
  },
  {
   "cell_type": "code",
   "execution_count": 3,
   "metadata": {
    "id": "8ZAI2I0078sM"
   },
   "outputs": [],
   "source": [
    "path_output = \"output\""
   ]
  },
  {
   "cell_type": "markdown",
   "metadata": {
    "id": "EfXeVw6B8AQF"
   },
   "source": [
    "以下判定"
   ]
  },
  {
   "cell_type": "code",
   "execution_count": null,
   "metadata": {
    "id": "Cv-keUUD7-qx"
   },
   "outputs": [],
   "source": [
    "test_dir = path_test\n",
    "save_path = path_output\n",
    "\n",
    "max_item_in_picture = 5\n",
    "threshold = 0.5\n",
    "\n",
    "model.load_state_dict(torch.load(path_model_i))\n",
    "model.eval()\n",
    "test_classes = ['__background__'] + dataset_class\n",
    "for imgfile in sorted(glob(test_dir + '/*')):\n",
    "    img = cv2.imread(imgfile)\n",
    "    img = cv2.cvtColor(img, cv2.COLOR_BGR2RGB)\n",
    "    image_tensor = torchvision.transforms.functional.to_tensor(img)\n",
    "    #file_name = imgfile.split(\"/\")[-1].split(\".\")[0]\n",
    "    file_name = imgfile.split(\"\\\\\")[-1].split(\".\")[0]\n",
    "    f = open(save_path + f\"/label/{file_name}.xml\", mode='w')\n",
    "    f.write(f'<annotation verified=\"yes\">\\n')\n",
    "    f.write(f'\\t<folder>Annotation</folder>\\n')\n",
    "    f.write(f'\\t<filename>{file_name}.jpg</filename>\\n')\n",
    "    f.write(f'\\t<source>\\n\\t\\t<database>Unknown</database>\\n\\t</source>\\n')\n",
    "    f.write(f'\\t<size>\\n')\n",
    "    f.write(f'\\t\\t<width>{img.shape[1]}</width>\\n')\n",
    "    f.write(f'\\t\\t<height>{img.shape[0]}</height>\\n')\n",
    "    f.write(f'\\t\\t<depth>{img.shape[2]}</depth>\\n')\n",
    "    f.write(f'\\t</size>\\n')\n",
    "    f.write(f'\\t<segmented>0</segmented>\\n')\n",
    "\n",
    "    with torch.no_grad():\n",
    "        prediction = model([image_tensor.to(device)])\n",
    "\n",
    "    for i, box in enumerate(prediction[0]['boxes'][:max_item_in_picture]):\n",
    "        score = prediction[0]['scores'][i].cpu().numpy()\n",
    "        score = round(float(score), 2)\n",
    "        cat = prediction[0]['labels'][i].cpu().numpy()\n",
    "        if(score < threshold):\n",
    "            break\n",
    "\n",
    "        txt = '{} {}'.format(test_classes[int(cat)], str(score))\n",
    "        font = cv2.FONT_HERSHEY_SIMPLEX\n",
    "        cat_size = cv2.getTextSize(txt, font, 0.5, 2)[0]\n",
    "        c = colors[int(cat)]\n",
    "        box = box.cpu().numpy().astype('int')\n",
    "        cv2.rectangle(img, (box[0], box[1]), (box[2], box[3]), c, 2)\n",
    "        cv2.rectangle(img, (box[0], box[1] - cat_size[1] - 2), (box[0] + cat_size[0], box[1] - 2), c, -1)\n",
    "        cv2.putText(img, txt, (box[0], box[1] - 2), font, 0.5, (0, 0, 0), thickness=1, lineType=cv2.LINE_AA)\n",
    "        f.write(f'\\t<object>\\n')\n",
    "        f.write(f'\\t<name>defect</name>\\n')\n",
    "        f.write(f'\\t<pose>Unspecified</pose>\\n')\n",
    "        f.write(f'\\t<truncated>0</truncated>\\n')\n",
    "        f.write(f'\\t<difficult>0</difficult>\\n')\n",
    "        f.write(f'\\t<bndbox>\\n')\n",
    "        f.write(f'\\t\\t<xmin>{box[0]}</xmin>\\n')\n",
    "        f.write(f'\\t\\t<ymin>{box[1]}</ymin>\\n')\n",
    "        f.write(f'\\t\\t<xmax>{box[2]}</xmax>\\n')\n",
    "        f.write(f'\\t\\t<ymax>{box[3]}</ymax>\\n')\n",
    "        f.write(f'\\t</bndbox>\\n')\n",
    "        f.write(f'\\t</object>\\n')\n",
    "\n",
    "    pil_img = Image.fromarray(img)\n",
    "    pil_img.save(save_path + f\"/{file_name}_result.jpg\")\n",
    "    \n",
    "    f.write(f'</annotation>\\n')\n",
    "    f.close()"
   ]
  },
  {
   "cell_type": "code",
   "execution_count": null,
   "metadata": {
    "id": "EBkMXwNmhsot"
   },
   "outputs": [],
   "source": []
  }
 ],
 "metadata": {
  "accelerator": "GPU",
  "colab": {
   "authorship_tag": "ABX9TyMyNLPfgJptO2o/mkfn2SHc",
   "mount_file_id": "1ZNDEgxKtJ4Ca5OpOXIXqRVqLDEKg_7nM",
   "name": "test.ipynb",
   "provenance": []
  },
  "kernelspec": {
   "display_name": "Python 3",
   "language": "python",
   "name": "python3"
  },
  "language_info": {
   "codemirror_mode": {
    "name": "ipython",
    "version": 3
   },
   "file_extension": ".py",
   "mimetype": "text/x-python",
   "name": "python",
   "nbconvert_exporter": "python",
   "pygments_lexer": "ipython3",
   "version": "3.8.8"
  },
  "widgets": {
   "application/vnd.jupyter.widget-state+json": {
    "0a9fdff3b9734631b72a75464d9893a5": {
     "model_module": "@jupyter-widgets/controls",
     "model_module_version": "1.5.0",
     "model_name": "ProgressStyleModel",
     "state": {
      "_model_module": "@jupyter-widgets/controls",
      "_model_module_version": "1.5.0",
      "_model_name": "ProgressStyleModel",
      "_view_count": null,
      "_view_module": "@jupyter-widgets/base",
      "_view_module_version": "1.2.0",
      "_view_name": "StyleView",
      "bar_color": null,
      "description_width": ""
     }
    },
    "20d83147a6fe4440941b592bc6b1b7be": {
     "model_module": "@jupyter-widgets/base",
     "model_module_version": "1.2.0",
     "model_name": "LayoutModel",
     "state": {
      "_model_module": "@jupyter-widgets/base",
      "_model_module_version": "1.2.0",
      "_model_name": "LayoutModel",
      "_view_count": null,
      "_view_module": "@jupyter-widgets/base",
      "_view_module_version": "1.2.0",
      "_view_name": "LayoutView",
      "align_content": null,
      "align_items": null,
      "align_self": null,
      "border": null,
      "bottom": null,
      "display": null,
      "flex": null,
      "flex_flow": null,
      "grid_area": null,
      "grid_auto_columns": null,
      "grid_auto_flow": null,
      "grid_auto_rows": null,
      "grid_column": null,
      "grid_gap": null,
      "grid_row": null,
      "grid_template_areas": null,
      "grid_template_columns": null,
      "grid_template_rows": null,
      "height": null,
      "justify_content": null,
      "justify_items": null,
      "left": null,
      "margin": null,
      "max_height": null,
      "max_width": null,
      "min_height": null,
      "min_width": null,
      "object_fit": null,
      "object_position": null,
      "order": null,
      "overflow": null,
      "overflow_x": null,
      "overflow_y": null,
      "padding": null,
      "right": null,
      "top": null,
      "visibility": null,
      "width": null
     }
    },
    "31758f0bda694bcaa568403937b4a98a": {
     "model_module": "@jupyter-widgets/base",
     "model_module_version": "1.2.0",
     "model_name": "LayoutModel",
     "state": {
      "_model_module": "@jupyter-widgets/base",
      "_model_module_version": "1.2.0",
      "_model_name": "LayoutModel",
      "_view_count": null,
      "_view_module": "@jupyter-widgets/base",
      "_view_module_version": "1.2.0",
      "_view_name": "LayoutView",
      "align_content": null,
      "align_items": null,
      "align_self": null,
      "border": null,
      "bottom": null,
      "display": null,
      "flex": null,
      "flex_flow": null,
      "grid_area": null,
      "grid_auto_columns": null,
      "grid_auto_flow": null,
      "grid_auto_rows": null,
      "grid_column": null,
      "grid_gap": null,
      "grid_row": null,
      "grid_template_areas": null,
      "grid_template_columns": null,
      "grid_template_rows": null,
      "height": null,
      "justify_content": null,
      "justify_items": null,
      "left": null,
      "margin": null,
      "max_height": null,
      "max_width": null,
      "min_height": null,
      "min_width": null,
      "object_fit": null,
      "object_position": null,
      "order": null,
      "overflow": null,
      "overflow_x": null,
      "overflow_y": null,
      "padding": null,
      "right": null,
      "top": null,
      "visibility": null,
      "width": null
     }
    },
    "8e5348f09ae041588ebf699f1408cf2d": {
     "model_module": "@jupyter-widgets/controls",
     "model_module_version": "1.5.0",
     "model_name": "HTMLModel",
     "state": {
      "_dom_classes": [],
      "_model_module": "@jupyter-widgets/controls",
      "_model_module_version": "1.5.0",
      "_model_name": "HTMLModel",
      "_view_count": null,
      "_view_module": "@jupyter-widgets/controls",
      "_view_module_version": "1.5.0",
      "_view_name": "HTMLView",
      "description": "",
      "description_tooltip": null,
      "layout": "IPY_MODEL_b4f5996e0a794830b4a9365147341411",
      "placeholder": "​",
      "style": "IPY_MODEL_f457f7780d9a401bafbeae8a14c88839",
      "value": " 160M/160M [00:08&lt;00:00, 16.7MB/s]"
     }
    },
    "9a6b19f098a846c1a8c3828721bd58ab": {
     "model_module": "@jupyter-widgets/controls",
     "model_module_version": "1.5.0",
     "model_name": "HBoxModel",
     "state": {
      "_dom_classes": [],
      "_model_module": "@jupyter-widgets/controls",
      "_model_module_version": "1.5.0",
      "_model_name": "HBoxModel",
      "_view_count": null,
      "_view_module": "@jupyter-widgets/controls",
      "_view_module_version": "1.5.0",
      "_view_name": "HBoxView",
      "box_style": "",
      "children": [
       "IPY_MODEL_e2902305d5384d5f9ad48a7004aed8c6",
       "IPY_MODEL_ba4699d86998469e85f0d03223b56e49",
       "IPY_MODEL_8e5348f09ae041588ebf699f1408cf2d"
      ],
      "layout": "IPY_MODEL_20d83147a6fe4440941b592bc6b1b7be"
     }
    },
    "b4f5996e0a794830b4a9365147341411": {
     "model_module": "@jupyter-widgets/base",
     "model_module_version": "1.2.0",
     "model_name": "LayoutModel",
     "state": {
      "_model_module": "@jupyter-widgets/base",
      "_model_module_version": "1.2.0",
      "_model_name": "LayoutModel",
      "_view_count": null,
      "_view_module": "@jupyter-widgets/base",
      "_view_module_version": "1.2.0",
      "_view_name": "LayoutView",
      "align_content": null,
      "align_items": null,
      "align_self": null,
      "border": null,
      "bottom": null,
      "display": null,
      "flex": null,
      "flex_flow": null,
      "grid_area": null,
      "grid_auto_columns": null,
      "grid_auto_flow": null,
      "grid_auto_rows": null,
      "grid_column": null,
      "grid_gap": null,
      "grid_row": null,
      "grid_template_areas": null,
      "grid_template_columns": null,
      "grid_template_rows": null,
      "height": null,
      "justify_content": null,
      "justify_items": null,
      "left": null,
      "margin": null,
      "max_height": null,
      "max_width": null,
      "min_height": null,
      "min_width": null,
      "object_fit": null,
      "object_position": null,
      "order": null,
      "overflow": null,
      "overflow_x": null,
      "overflow_y": null,
      "padding": null,
      "right": null,
      "top": null,
      "visibility": null,
      "width": null
     }
    },
    "ba4699d86998469e85f0d03223b56e49": {
     "model_module": "@jupyter-widgets/controls",
     "model_module_version": "1.5.0",
     "model_name": "FloatProgressModel",
     "state": {
      "_dom_classes": [],
      "_model_module": "@jupyter-widgets/controls",
      "_model_module_version": "1.5.0",
      "_model_name": "FloatProgressModel",
      "_view_count": null,
      "_view_module": "@jupyter-widgets/controls",
      "_view_module_version": "1.5.0",
      "_view_name": "ProgressView",
      "bar_style": "success",
      "description": "",
      "description_tooltip": null,
      "layout": "IPY_MODEL_31758f0bda694bcaa568403937b4a98a",
      "max": 167502836,
      "min": 0,
      "orientation": "horizontal",
      "style": "IPY_MODEL_0a9fdff3b9734631b72a75464d9893a5",
      "value": 167502836
     }
    },
    "bc9eaa18522d45eeaf651c6dc24f5eb0": {
     "model_module": "@jupyter-widgets/base",
     "model_module_version": "1.2.0",
     "model_name": "LayoutModel",
     "state": {
      "_model_module": "@jupyter-widgets/base",
      "_model_module_version": "1.2.0",
      "_model_name": "LayoutModel",
      "_view_count": null,
      "_view_module": "@jupyter-widgets/base",
      "_view_module_version": "1.2.0",
      "_view_name": "LayoutView",
      "align_content": null,
      "align_items": null,
      "align_self": null,
      "border": null,
      "bottom": null,
      "display": null,
      "flex": null,
      "flex_flow": null,
      "grid_area": null,
      "grid_auto_columns": null,
      "grid_auto_flow": null,
      "grid_auto_rows": null,
      "grid_column": null,
      "grid_gap": null,
      "grid_row": null,
      "grid_template_areas": null,
      "grid_template_columns": null,
      "grid_template_rows": null,
      "height": null,
      "justify_content": null,
      "justify_items": null,
      "left": null,
      "margin": null,
      "max_height": null,
      "max_width": null,
      "min_height": null,
      "min_width": null,
      "object_fit": null,
      "object_position": null,
      "order": null,
      "overflow": null,
      "overflow_x": null,
      "overflow_y": null,
      "padding": null,
      "right": null,
      "top": null,
      "visibility": null,
      "width": null
     }
    },
    "ddff8604230940a6b47471b4fd53db9f": {
     "model_module": "@jupyter-widgets/controls",
     "model_module_version": "1.5.0",
     "model_name": "DescriptionStyleModel",
     "state": {
      "_model_module": "@jupyter-widgets/controls",
      "_model_module_version": "1.5.0",
      "_model_name": "DescriptionStyleModel",
      "_view_count": null,
      "_view_module": "@jupyter-widgets/base",
      "_view_module_version": "1.2.0",
      "_view_name": "StyleView",
      "description_width": ""
     }
    },
    "e2902305d5384d5f9ad48a7004aed8c6": {
     "model_module": "@jupyter-widgets/controls",
     "model_module_version": "1.5.0",
     "model_name": "HTMLModel",
     "state": {
      "_dom_classes": [],
      "_model_module": "@jupyter-widgets/controls",
      "_model_module_version": "1.5.0",
      "_model_name": "HTMLModel",
      "_view_count": null,
      "_view_module": "@jupyter-widgets/controls",
      "_view_module_version": "1.5.0",
      "_view_name": "HTMLView",
      "description": "",
      "description_tooltip": null,
      "layout": "IPY_MODEL_bc9eaa18522d45eeaf651c6dc24f5eb0",
      "placeholder": "​",
      "style": "IPY_MODEL_ddff8604230940a6b47471b4fd53db9f",
      "value": "100%"
     }
    },
    "f457f7780d9a401bafbeae8a14c88839": {
     "model_module": "@jupyter-widgets/controls",
     "model_module_version": "1.5.0",
     "model_name": "DescriptionStyleModel",
     "state": {
      "_model_module": "@jupyter-widgets/controls",
      "_model_module_version": "1.5.0",
      "_model_name": "DescriptionStyleModel",
      "_view_count": null,
      "_view_module": "@jupyter-widgets/base",
      "_view_module_version": "1.2.0",
      "_view_name": "StyleView",
      "description_width": ""
     }
    }
   }
  }
 },
 "nbformat": 4,
 "nbformat_minor": 4
}
